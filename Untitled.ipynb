{
 "cells": [
  {
   "cell_type": "code",
   "execution_count": 21,
   "id": "708b9e44-255f-4b35-b83c-7023b283bd57",
   "metadata": {},
   "outputs": [],
   "source": [
    "A1='Python was crested by Guido van Rossum'"
   ]
  },
  {
   "cell_type": "code",
   "execution_count": 22,
   "id": "d8504e7d-7669-4a62-bd43-5be6994b2ed0",
   "metadata": {},
   "outputs": [],
   "source": [
    "A2= 'Python is an interpreted programming language, supporting object-oriented, structured, and functional programming'"
   ]
  },
  {
   "cell_type": "code",
   "execution_count": 23,
   "id": "95e4a49f-5612-4202-8275-1d8c7c289fb9",
   "metadata": {},
   "outputs": [],
   "source": [
    "A3= 'python is case sensitive when dealing with identifiers'"
   ]
  },
  {
   "cell_type": "code",
   "execution_count": 24,
   "id": "e3b25c41-2822-42d0-b812-cd7a5026ef20",
   "metadata": {},
   "outputs": [],
   "source": [
    "A4= 'pyhton is a widely used programming or coading language used for different purposes. The extensions for python files are. py,. pyi'"
   ]
  },
  {
   "cell_type": "code",
   "execution_count": 27,
   "id": "98425b8c-9e7c-4c22-bc0c-f41cf20cb2ec",
   "metadata": {},
   "outputs": [],
   "source": [
    "A5= 'Python is both compiled as well as an interpreted language, which means when we run a python code, it is first complied and then interpreted line by line'"
   ]
  },
  {
   "cell_type": "code",
   "execution_count": 28,
   "id": "ca641c39-bcbd-4fa8-9702-b6965e90d0cd",
   "metadata": {},
   "outputs": [],
   "source": [
    "A6= 'A python program is constructed from code blocks. A blocks is a piece of pyhton program text that is executed as a unit. The following are blocks : a module, a function body, and a class definition.'"
   ]
  },
  {
   "cell_type": "code",
   "execution_count": 29,
   "id": "7188d2d7-9fdd-4a17-a604-768148f3a192",
   "metadata": {},
   "outputs": [],
   "source": [
    "A7= 'We can write a single-line comment by adding a single # character before any statement or line of code'"
   ]
  },
  {
   "cell_type": "code",
   "execution_count": 30,
   "id": "9b41efd2-91c4-4f01-9f40-afff5ad3f4ad",
   "metadata": {},
   "outputs": [],
   "source": [
    "A8= ' The function sys. version can help us to find the version of python that we are currently working on'"
   ]
  },
  {
   "cell_type": "code",
   "execution_count": 31,
   "id": "33608bfa-c09a-4024-abf3-bdd808b2b1e9",
   "metadata": {},
   "outputs": [],
   "source": [
    "A9= 'Python supports to make anonymous functions which are not bound to a name(@ runtime). It uses a construct called \"lambda\".'"
   ]
  },
  {
   "cell_type": "code",
   "execution_count": 32,
   "id": "22b5cccd-a91d-4e48-9a9a-a1ac4ee5e536",
   "metadata": {},
   "outputs": [],
   "source": [
    "A10= \"PIP stands for Preferred Installer Program, helps you to install libraries and dependencies, that doesn’t come with the standard package of Python. So, PIP is essentially a package manager for Python\""
   ]
  },
  {
   "cell_type": "code",
   "execution_count": 33,
   "id": "e0f05c78-dcaf-4d02-92b1-2fcc116a8631",
   "metadata": {},
   "outputs": [],
   "source": [
    "A11= \"print(), type(), len(), find(), \""
   ]
  },
  {
   "cell_type": "code",
   "execution_count": 34,
   "id": "64b391b3-310a-45ad-9e05-b5e3c5912b78",
   "metadata": {},
   "outputs": [],
   "source": [
    "A12= \"An identifier can have a maximum length of 79 characters in Python\""
   ]
  },
  {
   "cell_type": "code",
   "execution_count": 35,
   "id": "911858a8-eb07-4b95-a1f6-d586658febd0",
   "metadata": {},
   "outputs": [],
   "source": [
    "A13=\"Python is commonly used for developing websites and software, task automation, data analysis, and data visualization. Since it's relatively easy to learn, Python has been adopted by many non-programmers such as accountants and scientists, for a variety of everyday tasks, like organizing finances.\""
   ]
  },
  {
   "cell_type": "code",
   "execution_count": 36,
   "id": "8d6a475e-c0d7-41c4-940c-7ab48f3b84e0",
   "metadata": {},
   "outputs": [],
   "source": [
    "A14= \"Memory management in Python involves a private heap containing all Python objects and data structures. The management of this private heap is ensured internally by the Python memory manager\""
   ]
  },
  {
   "cell_type": "code",
   "execution_count": 39,
   "id": "574d0db1-5a4c-4dcb-b24e-7ecca22f7a3a",
   "metadata": {},
   "outputs": [],
   "source": [
    "A15= \"Open a browser to the Python website and download the Windows installer. 2. Double click on the downloaded file and install Python for all users, and ensure that Python is added to your path. Click on Install now to begin.Right-click 'My Computer'.\"\n",
    "#Select 'Properties' at the bottom of the Context Menu.\n",
    "#Select 'Advanced system settings'\n",
    "#Click 'Environment Variables...' in the Advanced Tab\n",
    "#Under 'System Variables': Click Edit\""
   ]
  },
  {
   "cell_type": "code",
   "execution_count": 40,
   "id": "647732ae-d246-49e6-a376-2a51e7a8cd60",
   "metadata": {},
   "outputs": [
    {
     "ename": "SyntaxError",
     "evalue": "unterminated string literal (detected at line 1) (1108527679.py, line 1)",
     "output_type": "error",
     "traceback": [
      "\u001b[0;36m  Cell \u001b[0;32mIn[40], line 1\u001b[0;36m\u001b[0m\n\u001b[0;31m    A16= \"ndentation refers to the spaces at the beginning of a code line. Where in other programming languages the indentation in code is for readability only, the indentation in Python is very important. Python uses indentation to indicate a block of code.\u001b[0m\n\u001b[0m         ^\u001b[0m\n\u001b[0;31mSyntaxError\u001b[0m\u001b[0;31m:\u001b[0m unterminated string literal (detected at line 1)\n"
     ]
    }
   ],
   "source": [
    "A16= \"ndentation refers to the spaces at the beginning of a code line. Where in other programming languages the indentation in code is for readability only, the indentation in Python is very important.Python uses indentation to indicate a block of code.\n",
    "\""
   ]
  },
  {
   "cell_type": "code",
   "execution_count": null,
   "id": "fc3ea2f9-507b-43e1-b8f3-11f044665822",
   "metadata": {},
   "outputs": [],
   "source": []
  }
 ],
 "metadata": {
  "kernelspec": {
   "display_name": "Python 3 (ipykernel)",
   "language": "python",
   "name": "python3"
  },
  "language_info": {
   "codemirror_mode": {
    "name": "ipython",
    "version": 3
   },
   "file_extension": ".py",
   "mimetype": "text/x-python",
   "name": "python",
   "nbconvert_exporter": "python",
   "pygments_lexer": "ipython3",
   "version": "3.10.8"
  }
 },
 "nbformat": 4,
 "nbformat_minor": 5
}
